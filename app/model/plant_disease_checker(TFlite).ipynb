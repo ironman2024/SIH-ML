{
  "nbformat": 4,
  "nbformat_minor": 0,
  "metadata": {
    "colab": {
      "provenance": []
    },
    "kernelspec": {
      "name": "python3",
      "display_name": "Python 3"
    },
    "language_info": {
      "name": "python"
    }
  },
  "cells": [
    {
      "cell_type": "code",
      "execution_count": 1,
      "metadata": {
        "colab": {
          "base_uri": "https://localhost:8080/"
        },
        "id": "btZQQu-gM8P2",
        "outputId": "e4f845b4-51a2-449a-fb45-fdcd19fd8e17"
      },
      "outputs": [
        {
          "output_type": "stream",
          "name": "stdout",
          "text": [
            "Requirement already satisfied: tensorflow in /usr/local/lib/python3.10/dist-packages (2.17.0)\n",
            "Requirement already satisfied: keras in /usr/local/lib/python3.10/dist-packages (3.4.1)\n",
            "Requirement already satisfied: imutils in /usr/local/lib/python3.10/dist-packages (0.5.4)\n",
            "Requirement already satisfied: absl-py>=1.0.0 in /usr/local/lib/python3.10/dist-packages (from tensorflow) (1.4.0)\n",
            "Requirement already satisfied: astunparse>=1.6.0 in /usr/local/lib/python3.10/dist-packages (from tensorflow) (1.6.3)\n",
            "Requirement already satisfied: flatbuffers>=24.3.25 in /usr/local/lib/python3.10/dist-packages (from tensorflow) (24.3.25)\n",
            "Requirement already satisfied: gast!=0.5.0,!=0.5.1,!=0.5.2,>=0.2.1 in /usr/local/lib/python3.10/dist-packages (from tensorflow) (0.6.0)\n",
            "Requirement already satisfied: google-pasta>=0.1.1 in /usr/local/lib/python3.10/dist-packages (from tensorflow) (0.2.0)\n",
            "Requirement already satisfied: h5py>=3.10.0 in /usr/local/lib/python3.10/dist-packages (from tensorflow) (3.11.0)\n",
            "Requirement already satisfied: libclang>=13.0.0 in /usr/local/lib/python3.10/dist-packages (from tensorflow) (18.1.1)\n",
            "Requirement already satisfied: ml-dtypes<0.5.0,>=0.3.1 in /usr/local/lib/python3.10/dist-packages (from tensorflow) (0.4.1)\n",
            "Requirement already satisfied: opt-einsum>=2.3.2 in /usr/local/lib/python3.10/dist-packages (from tensorflow) (3.3.0)\n",
            "Requirement already satisfied: packaging in /usr/local/lib/python3.10/dist-packages (from tensorflow) (24.1)\n",
            "Requirement already satisfied: protobuf!=4.21.0,!=4.21.1,!=4.21.2,!=4.21.3,!=4.21.4,!=4.21.5,<5.0.0dev,>=3.20.3 in /usr/local/lib/python3.10/dist-packages (from tensorflow) (3.20.3)\n",
            "Requirement already satisfied: requests<3,>=2.21.0 in /usr/local/lib/python3.10/dist-packages (from tensorflow) (2.32.3)\n",
            "Requirement already satisfied: setuptools in /usr/local/lib/python3.10/dist-packages (from tensorflow) (71.0.4)\n",
            "Requirement already satisfied: six>=1.12.0 in /usr/local/lib/python3.10/dist-packages (from tensorflow) (1.16.0)\n",
            "Requirement already satisfied: termcolor>=1.1.0 in /usr/local/lib/python3.10/dist-packages (from tensorflow) (2.4.0)\n",
            "Requirement already satisfied: typing-extensions>=3.6.6 in /usr/local/lib/python3.10/dist-packages (from tensorflow) (4.12.2)\n",
            "Requirement already satisfied: wrapt>=1.11.0 in /usr/local/lib/python3.10/dist-packages (from tensorflow) (1.16.0)\n",
            "Requirement already satisfied: grpcio<2.0,>=1.24.3 in /usr/local/lib/python3.10/dist-packages (from tensorflow) (1.64.1)\n",
            "Requirement already satisfied: tensorboard<2.18,>=2.17 in /usr/local/lib/python3.10/dist-packages (from tensorflow) (2.17.0)\n",
            "Requirement already satisfied: tensorflow-io-gcs-filesystem>=0.23.1 in /usr/local/lib/python3.10/dist-packages (from tensorflow) (0.37.1)\n",
            "Requirement already satisfied: numpy<2.0.0,>=1.23.5 in /usr/local/lib/python3.10/dist-packages (from tensorflow) (1.26.4)\n",
            "Requirement already satisfied: rich in /usr/local/lib/python3.10/dist-packages (from keras) (13.8.1)\n",
            "Requirement already satisfied: namex in /usr/local/lib/python3.10/dist-packages (from keras) (0.0.8)\n",
            "Requirement already satisfied: optree in /usr/local/lib/python3.10/dist-packages (from keras) (0.12.1)\n",
            "Requirement already satisfied: wheel<1.0,>=0.23.0 in /usr/local/lib/python3.10/dist-packages (from astunparse>=1.6.0->tensorflow) (0.44.0)\n",
            "Requirement already satisfied: charset-normalizer<4,>=2 in /usr/local/lib/python3.10/dist-packages (from requests<3,>=2.21.0->tensorflow) (3.3.2)\n",
            "Requirement already satisfied: idna<4,>=2.5 in /usr/local/lib/python3.10/dist-packages (from requests<3,>=2.21.0->tensorflow) (3.10)\n",
            "Requirement already satisfied: urllib3<3,>=1.21.1 in /usr/local/lib/python3.10/dist-packages (from requests<3,>=2.21.0->tensorflow) (2.2.3)\n",
            "Requirement already satisfied: certifi>=2017.4.17 in /usr/local/lib/python3.10/dist-packages (from requests<3,>=2.21.0->tensorflow) (2024.8.30)\n",
            "Requirement already satisfied: markdown>=2.6.8 in /usr/local/lib/python3.10/dist-packages (from tensorboard<2.18,>=2.17->tensorflow) (3.7)\n",
            "Requirement already satisfied: tensorboard-data-server<0.8.0,>=0.7.0 in /usr/local/lib/python3.10/dist-packages (from tensorboard<2.18,>=2.17->tensorflow) (0.7.2)\n",
            "Requirement already satisfied: werkzeug>=1.0.1 in /usr/local/lib/python3.10/dist-packages (from tensorboard<2.18,>=2.17->tensorflow) (3.0.4)\n",
            "Requirement already satisfied: markdown-it-py>=2.2.0 in /usr/local/lib/python3.10/dist-packages (from rich->keras) (3.0.0)\n",
            "Requirement already satisfied: pygments<3.0.0,>=2.13.0 in /usr/local/lib/python3.10/dist-packages (from rich->keras) (2.18.0)\n",
            "Requirement already satisfied: mdurl~=0.1 in /usr/local/lib/python3.10/dist-packages (from markdown-it-py>=2.2.0->rich->keras) (0.1.2)\n",
            "Requirement already satisfied: MarkupSafe>=2.1.1 in /usr/local/lib/python3.10/dist-packages (from werkzeug>=1.0.1->tensorboard<2.18,>=2.17->tensorflow) (2.1.5)\n"
          ]
        }
      ],
      "source": [
        "!pip install tensorflow keras imutils"
      ]
    },
    {
      "cell_type": "code",
      "source": [
        "from google.colab import drive\n",
        "drive.mount('/content/drive')"
      ],
      "metadata": {
        "colab": {
          "base_uri": "https://localhost:8080/"
        },
        "id": "63oA51O0gImq",
        "outputId": "a4f0d14a-640e-4580-adfa-d4d21a4a1c2a"
      },
      "execution_count": 2,
      "outputs": [
        {
          "output_type": "stream",
          "name": "stdout",
          "text": [
            "Mounted at /content/drive\n"
          ]
        }
      ]
    },
    {
      "cell_type": "code",
      "source": [
        "from tensorflow.keras.preprocessing.image import img_to_array, ImageDataGenerator\n",
        "from tensorflow.keras.applications import MobileNetV2\n",
        "from tensorflow.keras.layers import AveragePooling2D, Dropout, Flatten, Dense, Input\n",
        "from tensorflow.keras.models import Sequential\n",
        "from sklearn.preprocessing import MultiLabelBinarizer\n",
        "from sklearn.model_selection import train_test_split\n",
        "from sklearn.metrics import classification_report\n",
        "from sklearn.utils import class_weight"
      ],
      "metadata": {
        "id": "RnRGlBbBNG-N"
      },
      "execution_count": 3,
      "outputs": []
    },
    {
      "cell_type": "code",
      "source": [
        "import matplotlib.pyplot as plt\n",
        "import numpy as np\n",
        "import random\n",
        "import cv2\n",
        "import os\n",
        "from imutils import paths"
      ],
      "metadata": {
        "id": "ECFw0gj5NMIq"
      },
      "execution_count": 4,
      "outputs": []
    },
    {
      "cell_type": "code",
      "source": [
        "imagePaths = sorted(list(paths.list_images('/content/drive/MyDrive/ML datasets/rice_leaf_diseases')))\n",
        "random.seed(42)\n",
        "random.shuffle(imagePaths)"
      ],
      "metadata": {
        "id": "zNANIMBKNja-"
      },
      "execution_count": 5,
      "outputs": []
    },
    {
      "cell_type": "code",
      "source": [
        "data = []\n",
        "labels = []\n",
        "image_dims = (224, 224, 3)"
      ],
      "metadata": {
        "id": "bR7wsbnfOFNL"
      },
      "execution_count": 6,
      "outputs": []
    },
    {
      "cell_type": "code",
      "source": [
        "for imagePath in imagePaths:\n",
        "    image = cv2.imread(imagePath)\n",
        "    image = cv2.resize(image, (image_dims[1], image_dims[0]))\n",
        "    image = img_to_array(image)\n",
        "    data.append(image)\n",
        "    l = imagePath.split(os.path.sep)[-2].split(\"_\")\n",
        "    labels.append(l)"
      ],
      "metadata": {
        "id": "eeEyI04qOGiI"
      },
      "execution_count": 7,
      "outputs": []
    },
    {
      "cell_type": "code",
      "source": [
        "data = np.array(data, dtype=\"float\") / 255.0\n",
        "labels = np.array(labels)"
      ],
      "metadata": {
        "id": "fABH7YoSOJrp"
      },
      "execution_count": 8,
      "outputs": []
    },
    {
      "cell_type": "code",
      "source": [
        "mlb = MultiLabelBinarizer()\n",
        "labels = mlb.fit_transform(labels)"
      ],
      "metadata": {
        "id": "impCSx3MOOgQ"
      },
      "execution_count": 9,
      "outputs": []
    },
    {
      "cell_type": "code",
      "source": [
        "def MobileNetV2_model(learning_rate, input_shape, class_number):\n",
        "    baseModel = MobileNetV2(include_top=False, input_tensor=Input(shape=input_shape))\n",
        "    for layer in baseModel.layers[:-4]:\n",
        "        layer.trainable = False  # Freeze layers\n",
        "\n",
        "    model = Sequential()\n",
        "    model.add(baseModel)\n",
        "    model.add(AveragePooling2D(pool_size=(2, 2)))\n",
        "    model.add(Flatten())\n",
        "    model.add(Dense(512, activation=\"relu\"))\n",
        "    model.add(Dropout(0.5))\n",
        "    model.add(Dense(50, activation=\"relu\"))\n",
        "    model.add(Dropout(0.5))\n",
        "    model.add(Dense(class_number, activation='softmax'))\n",
        "\n",
        "    return model\n"
      ],
      "metadata": {
        "id": "yB0pRUciOP0t"
      },
      "execution_count": 10,
      "outputs": []
    },
    {
      "cell_type": "code",
      "source": [
        "bs = 32\n",
        "lr = 0.0001\n",
        "epochs = 32 # Increased number of epochs\n",
        "class_number = len(mlb.classes_)\n",
        "input_shape = (224, 224, 3)"
      ],
      "metadata": {
        "id": "9_a5kbUjOUQc"
      },
      "execution_count": 11,
      "outputs": []
    },
    {
      "cell_type": "code",
      "source": [
        "model = MobileNetV2_model(lr, input_shape, class_number)\n",
        "model.compile(loss=\"categorical_crossentropy\", metrics=[\"accuracy\"], optimizer=\"adam\")"
      ],
      "metadata": {
        "colab": {
          "base_uri": "https://localhost:8080/"
        },
        "id": "d1A_9d00OXYf",
        "outputId": "7d761365-ece8-48d5-e418-145edc928f39"
      },
      "execution_count": 12,
      "outputs": [
        {
          "output_type": "stream",
          "name": "stderr",
          "text": [
            "<ipython-input-10-a7bba6b4b957>:2: UserWarning: `input_shape` is undefined or non-square, or `rows` is not in [96, 128, 160, 192, 224]. Weights for input shape (224, 224) will be loaded as the default.\n",
            "  baseModel = MobileNetV2(include_top=False, input_tensor=Input(shape=input_shape))\n"
          ]
        },
        {
          "output_type": "stream",
          "name": "stdout",
          "text": [
            "Downloading data from https://storage.googleapis.com/tensorflow/keras-applications/mobilenet_v2/mobilenet_v2_weights_tf_dim_ordering_tf_kernels_1.0_224_no_top.h5\n",
            "\u001b[1m9406464/9406464\u001b[0m \u001b[32m━━━━━━━━━━━━━━━━━━━━\u001b[0m\u001b[37m\u001b[0m \u001b[1m0s\u001b[0m 0us/step\n"
          ]
        }
      ]
    },
    {
      "cell_type": "code",
      "source": [
        "trainX, testX, trainY, testY = train_test_split(data, labels, test_size=0.20)"
      ],
      "metadata": {
        "id": "2-LoL7uPOb0U"
      },
      "execution_count": 13,
      "outputs": []
    },
    {
      "cell_type": "code",
      "source": [
        "datagen = ImageDataGenerator(\n",
        "    rotation_range=20,\n",
        "    width_shift_range=0.1,\n",
        "    height_shift_range=0.1,\n",
        "    shear_range=0.1,\n",
        "    zoom_range=0.1,\n",
        "    horizontal_flip=True,\n",
        "    fill_mode=\"nearest\"\n",
        ")\n",
        "datagen.fit(trainX)"
      ],
      "metadata": {
        "id": "-QzMI-5dPiiF"
      },
      "execution_count": 14,
      "outputs": []
    },
    {
      "cell_type": "code",
      "source": [
        "from tensorflow.keras.callbacks import LearningRateScheduler\n",
        "def lr_schedule(epoch, lr):\n",
        "    if epoch > 0 and epoch % 10 == 0:  # Change learning rate every 10 epochs\n",
        "        return lr * 0.5\n",
        "    return lr\n"
      ],
      "metadata": {
        "id": "aAKYw2ygPj_x"
      },
      "execution_count": 15,
      "outputs": []
    },
    {
      "cell_type": "code",
      "source": [
        "lr_scheduler = LearningRateScheduler(lr_schedule)"
      ],
      "metadata": {
        "id": "bMfBOQZ9PuS0"
      },
      "execution_count": 16,
      "outputs": []
    },
    {
      "cell_type": "code",
      "source": [
        "train_labels = trainY.argmax(axis=1)\n",
        "class_weights = class_weight.compute_class_weight(class_weight='balanced', classes=np.unique(train_labels), y=train_labels)\n",
        "class_weight_dict = dict(enumerate(class_weights))"
      ],
      "metadata": {
        "id": "3BGa63v7PzGS"
      },
      "execution_count": 17,
      "outputs": []
    },
    {
      "cell_type": "code",
      "source": [
        "from tensorflow.keras.callbacks import EarlyStopping\n",
        "early_stopping = EarlyStopping(monitor='val_loss', patience=10, restore_best_weights=True)"
      ],
      "metadata": {
        "id": "nLZ5OF5ZP41f"
      },
      "execution_count": 18,
      "outputs": []
    },
    {
      "cell_type": "code",
      "source": [
        "H = model.fit(datagen.flow(trainX, trainY, batch_size=bs),\n",
        "              steps_per_epoch=len(trainX) // bs,\n",
        "              validation_data=(testX, testY),\n",
        "              validation_steps=len(testX) // bs,\n",
        "              epochs=10,  # Make sure epochs are set here\n",
        "              class_weight=class_weight_dict\n",
        "          )\n",
        "model.export(\"/content/saved_model\")  # Save in SavedModel format\n",
        "\n",
        "# replace with path where you want to store the model"
      ],
      "metadata": {
        "colab": {
          "base_uri": "https://localhost:8080/"
        },
        "id": "gU6G5ftfP-tf",
        "outputId": "443755d0-798b-49f4-88a3-53258356f182"
      },
      "execution_count": 22,
      "outputs": [
        {
          "output_type": "stream",
          "name": "stdout",
          "text": [
            "Epoch 1/10\n",
            "\u001b[1m3/3\u001b[0m \u001b[32m━━━━━━━━━━━━━━━━━━━━\u001b[0m\u001b[37m\u001b[0m \u001b[1m9s\u001b[0m 3s/step - accuracy: 0.9818 - loss: 0.0623 - val_accuracy: 0.8750 - val_loss: 0.4123\n",
            "Epoch 2/10\n",
            "\u001b[1m3/3\u001b[0m \u001b[32m━━━━━━━━━━━━━━━━━━━━\u001b[0m\u001b[37m\u001b[0m \u001b[1m1s\u001b[0m 281ms/step - accuracy: 0.0000e+00 - loss: 0.0000e+00 - val_accuracy: 0.8750 - val_loss: 0.4123\n",
            "Epoch 3/10\n",
            "\u001b[1m3/3\u001b[0m \u001b[32m━━━━━━━━━━━━━━━━━━━━\u001b[0m\u001b[37m\u001b[0m \u001b[1m6s\u001b[0m 2s/step - accuracy: 0.9779 - loss: 0.0795 - val_accuracy: 0.9167 - val_loss: 0.3614\n",
            "Epoch 4/10\n",
            "\u001b[1m3/3\u001b[0m \u001b[32m━━━━━━━━━━━━━━━━━━━━\u001b[0m\u001b[37m\u001b[0m \u001b[1m1s\u001b[0m 433ms/step - accuracy: 0.0000e+00 - loss: 0.0000e+00 - val_accuracy: 0.9167 - val_loss: 0.3614\n",
            "Epoch 5/10\n",
            "\u001b[1m3/3\u001b[0m \u001b[32m━━━━━━━━━━━━━━━━━━━━\u001b[0m\u001b[37m\u001b[0m \u001b[1m9s\u001b[0m 2s/step - accuracy: 0.9661 - loss: 0.1207 - val_accuracy: 0.9167 - val_loss: 0.3254\n",
            "Epoch 6/10\n",
            "\u001b[1m3/3\u001b[0m \u001b[32m━━━━━━━━━━━━━━━━━━━━\u001b[0m\u001b[37m\u001b[0m \u001b[1m1s\u001b[0m 290ms/step - accuracy: 0.0000e+00 - loss: 0.0000e+00 - val_accuracy: 0.9167 - val_loss: 0.3254\n",
            "Epoch 7/10\n",
            "\u001b[1m3/3\u001b[0m \u001b[32m━━━━━━━━━━━━━━━━━━━━\u001b[0m\u001b[37m\u001b[0m \u001b[1m9s\u001b[0m 3s/step - accuracy: 0.9609 - loss: 0.0726 - val_accuracy: 0.9167 - val_loss: 0.3937\n",
            "Epoch 8/10\n",
            "\u001b[1m3/3\u001b[0m \u001b[32m━━━━━━━━━━━━━━━━━━━━\u001b[0m\u001b[37m\u001b[0m \u001b[1m1s\u001b[0m 290ms/step - accuracy: 0.0000e+00 - loss: 0.0000e+00 - val_accuracy: 0.9167 - val_loss: 0.3937\n",
            "Epoch 9/10\n",
            "\u001b[1m3/3\u001b[0m \u001b[32m━━━━━━━━━━━━━━━━━━━━\u001b[0m\u001b[37m\u001b[0m \u001b[1m17s\u001b[0m 2s/step - accuracy: 0.9180 - loss: 0.1948 - val_accuracy: 0.7917 - val_loss: 0.6109\n",
            "Epoch 10/10\n",
            "\u001b[1m3/3\u001b[0m \u001b[32m━━━━━━━━━━━━━━━━━━━━\u001b[0m\u001b[37m\u001b[0m \u001b[1m1s\u001b[0m 314ms/step - accuracy: 0.0000e+00 - loss: 0.0000e+00 - val_accuracy: 0.7917 - val_loss: 0.6109\n",
            "Saved artifact at '/content/saved_model'. The following endpoints are available:\n",
            "\n",
            "* Endpoint 'serve'\n",
            "  args_0 (POSITIONAL_ONLY): TensorSpec(shape=(None, 224, 224, 3), dtype=tf.float32, name='keras_tensor_154')\n",
            "Output Type:\n",
            "  TensorSpec(shape=(None, 3), dtype=tf.float32, name=None)\n",
            "Captures:\n",
            "  139379721920480: TensorSpec(shape=(), dtype=tf.resource, name=None)\n",
            "  139379721923824: TensorSpec(shape=(), dtype=tf.resource, name=None)\n",
            "  139379721921888: TensorSpec(shape=(), dtype=tf.resource, name=None)\n",
            "  139379721921360: TensorSpec(shape=(), dtype=tf.resource, name=None)\n",
            "  139379721919600: TensorSpec(shape=(), dtype=tf.resource, name=None)\n",
            "  139379721927168: TensorSpec(shape=(), dtype=tf.resource, name=None)\n",
            "  139379722289568: TensorSpec(shape=(), dtype=tf.resource, name=None)\n",
            "  139379722291680: TensorSpec(shape=(), dtype=tf.resource, name=None)\n",
            "  139379721928400: TensorSpec(shape=(), dtype=tf.resource, name=None)\n",
            "  139379722290096: TensorSpec(shape=(), dtype=tf.resource, name=None)\n",
            "  139379722294496: TensorSpec(shape=(), dtype=tf.resource, name=None)\n",
            "  139379722294144: TensorSpec(shape=(), dtype=tf.resource, name=None)\n",
            "  139379722298192: TensorSpec(shape=(), dtype=tf.resource, name=None)\n",
            "  139379722295552: TensorSpec(shape=(), dtype=tf.resource, name=None)\n",
            "  139379722296432: TensorSpec(shape=(), dtype=tf.resource, name=None)\n",
            "  139379722300656: TensorSpec(shape=(), dtype=tf.resource, name=None)\n",
            "  139379722300304: TensorSpec(shape=(), dtype=tf.resource, name=None)\n",
            "  139379722304000: TensorSpec(shape=(), dtype=tf.resource, name=None)\n",
            "  139379722301360: TensorSpec(shape=(), dtype=tf.resource, name=None)\n",
            "  139379722302240: TensorSpec(shape=(), dtype=tf.resource, name=None)\n",
            "  139379722423104: TensorSpec(shape=(), dtype=tf.resource, name=None)\n",
            "  139379722422752: TensorSpec(shape=(), dtype=tf.resource, name=None)\n",
            "  139379722426976: TensorSpec(shape=(), dtype=tf.resource, name=None)\n",
            "  139379722424336: TensorSpec(shape=(), dtype=tf.resource, name=None)\n",
            "  139379722425216: TensorSpec(shape=(), dtype=tf.resource, name=None)\n",
            "  139379722430320: TensorSpec(shape=(), dtype=tf.resource, name=None)\n",
            "  139379722429968: TensorSpec(shape=(), dtype=tf.resource, name=None)\n",
            "  139379722434016: TensorSpec(shape=(), dtype=tf.resource, name=None)\n",
            "  139379722431376: TensorSpec(shape=(), dtype=tf.resource, name=None)\n",
            "  139379722432256: TensorSpec(shape=(), dtype=tf.resource, name=None)\n",
            "  139379722435248: TensorSpec(shape=(), dtype=tf.resource, name=None)\n",
            "  139379722489168: TensorSpec(shape=(), dtype=tf.resource, name=None)\n",
            "  139379722486528: TensorSpec(shape=(), dtype=tf.resource, name=None)\n",
            "  139379722486880: TensorSpec(shape=(), dtype=tf.resource, name=None)\n",
            "  139379722488112: TensorSpec(shape=(), dtype=tf.resource, name=None)\n",
            "  139379722492864: TensorSpec(shape=(), dtype=tf.resource, name=None)\n",
            "  139379722492336: TensorSpec(shape=(), dtype=tf.resource, name=None)\n",
            "  139379722496208: TensorSpec(shape=(), dtype=tf.resource, name=None)\n",
            "  139379722493568: TensorSpec(shape=(), dtype=tf.resource, name=None)\n",
            "  139379722494448: TensorSpec(shape=(), dtype=tf.resource, name=None)\n",
            "  139379722499552: TensorSpec(shape=(), dtype=tf.resource, name=None)\n",
            "  139379722500080: TensorSpec(shape=(), dtype=tf.resource, name=None)\n",
            "  139379722585360: TensorSpec(shape=(), dtype=tf.resource, name=None)\n",
            "  139379722500432: TensorSpec(shape=(), dtype=tf.resource, name=None)\n",
            "  139379722497968: TensorSpec(shape=(), dtype=tf.resource, name=None)\n",
            "  139379722588880: TensorSpec(shape=(), dtype=tf.resource, name=None)\n",
            "  139379722588528: TensorSpec(shape=(), dtype=tf.resource, name=None)\n",
            "  139379722592224: TensorSpec(shape=(), dtype=tf.resource, name=None)\n",
            "  139379722589584: TensorSpec(shape=(), dtype=tf.resource, name=None)\n",
            "  139379722590464: TensorSpec(shape=(), dtype=tf.resource, name=None)\n",
            "  139379722597152: TensorSpec(shape=(), dtype=tf.resource, name=None)\n",
            "  139379722596624: TensorSpec(shape=(), dtype=tf.resource, name=None)\n",
            "  139379722597680: TensorSpec(shape=(), dtype=tf.resource, name=None)\n",
            "  139379722597856: TensorSpec(shape=(), dtype=tf.resource, name=None)\n",
            "  139379722598736: TensorSpec(shape=(), dtype=tf.resource, name=None)\n",
            "  139379722669568: TensorSpec(shape=(), dtype=tf.resource, name=None)\n",
            "  139379722669216: TensorSpec(shape=(), dtype=tf.resource, name=None)\n",
            "  139379722673264: TensorSpec(shape=(), dtype=tf.resource, name=None)\n",
            "  139379722670624: TensorSpec(shape=(), dtype=tf.resource, name=None)\n",
            "  139379722671504: TensorSpec(shape=(), dtype=tf.resource, name=None)\n",
            "  139379722675728: TensorSpec(shape=(), dtype=tf.resource, name=None)\n",
            "  139379722675376: TensorSpec(shape=(), dtype=tf.resource, name=None)\n",
            "  139379722679072: TensorSpec(shape=(), dtype=tf.resource, name=None)\n",
            "  139379722676432: TensorSpec(shape=(), dtype=tf.resource, name=None)\n",
            "  139379722677312: TensorSpec(shape=(), dtype=tf.resource, name=None)\n",
            "  139379722679424: TensorSpec(shape=(), dtype=tf.resource, name=None)\n",
            "  139379542590032: TensorSpec(shape=(), dtype=tf.resource, name=None)\n",
            "  139379542591792: TensorSpec(shape=(), dtype=tf.resource, name=None)\n",
            "  139379542591088: TensorSpec(shape=(), dtype=tf.resource, name=None)\n",
            "  139379542591968: TensorSpec(shape=(), dtype=tf.resource, name=None)\n",
            "  139379542596720: TensorSpec(shape=(), dtype=tf.resource, name=None)\n",
            "  139379542596368: TensorSpec(shape=(), dtype=tf.resource, name=None)\n",
            "  139379542600416: TensorSpec(shape=(), dtype=tf.resource, name=None)\n",
            "  139379542597776: TensorSpec(shape=(), dtype=tf.resource, name=None)\n",
            "  139379542598656: TensorSpec(shape=(), dtype=tf.resource, name=None)\n",
            "  139379542604112: TensorSpec(shape=(), dtype=tf.resource, name=None)\n",
            "  139379542687984: TensorSpec(shape=(), dtype=tf.resource, name=None)\n",
            "  139379542690096: TensorSpec(shape=(), dtype=tf.resource, name=None)\n",
            "  139379542604640: TensorSpec(shape=(), dtype=tf.resource, name=None)\n",
            "  139379542603584: TensorSpec(shape=(), dtype=tf.resource, name=None)\n",
            "  139379542693264: TensorSpec(shape=(), dtype=tf.resource, name=None)\n",
            "  139379542692736: TensorSpec(shape=(), dtype=tf.resource, name=None)\n",
            "  139379542696608: TensorSpec(shape=(), dtype=tf.resource, name=None)\n",
            "  139379542693968: TensorSpec(shape=(), dtype=tf.resource, name=None)\n",
            "  139379542694848: TensorSpec(shape=(), dtype=tf.resource, name=None)\n",
            "  139379542699952: TensorSpec(shape=(), dtype=tf.resource, name=None)\n",
            "  139379542687808: TensorSpec(shape=(), dtype=tf.resource, name=None)\n",
            "  139379542703648: TensorSpec(shape=(), dtype=tf.resource, name=None)\n",
            "  139379542701008: TensorSpec(shape=(), dtype=tf.resource, name=None)\n",
            "  139379542701888: TensorSpec(shape=(), dtype=tf.resource, name=None)\n",
            "  139379542772720: TensorSpec(shape=(), dtype=tf.resource, name=None)\n",
            "  139379542772368: TensorSpec(shape=(), dtype=tf.resource, name=None)\n",
            "  139379542776416: TensorSpec(shape=(), dtype=tf.resource, name=None)\n",
            "  139379542773776: TensorSpec(shape=(), dtype=tf.resource, name=None)\n",
            "  139379542774656: TensorSpec(shape=(), dtype=tf.resource, name=None)\n",
            "  139379542781344: TensorSpec(shape=(), dtype=tf.resource, name=None)\n",
            "  139379542780816: TensorSpec(shape=(), dtype=tf.resource, name=None)\n",
            "  139379542784688: TensorSpec(shape=(), dtype=tf.resource, name=None)\n",
            "  139379542782048: TensorSpec(shape=(), dtype=tf.resource, name=None)\n",
            "  139379542782928: TensorSpec(shape=(), dtype=tf.resource, name=None)\n",
            "  139379542902912: TensorSpec(shape=(), dtype=tf.resource, name=None)\n",
            "  139379542902560: TensorSpec(shape=(), dtype=tf.resource, name=None)\n",
            "  139379542906608: TensorSpec(shape=(), dtype=tf.resource, name=None)\n",
            "  139379542903968: TensorSpec(shape=(), dtype=tf.resource, name=None)\n",
            "  139379542904848: TensorSpec(shape=(), dtype=tf.resource, name=None)\n",
            "  139379542909072: TensorSpec(shape=(), dtype=tf.resource, name=None)\n",
            "  139379542908720: TensorSpec(shape=(), dtype=tf.resource, name=None)\n",
            "  139379542912416: TensorSpec(shape=(), dtype=tf.resource, name=None)\n",
            "  139379542909776: TensorSpec(shape=(), dtype=tf.resource, name=None)\n",
            "  139379542910656: TensorSpec(shape=(), dtype=tf.resource, name=None)\n",
            "  139379542916112: TensorSpec(shape=(), dtype=tf.resource, name=None)\n",
            "  139379543001568: TensorSpec(shape=(), dtype=tf.resource, name=None)\n",
            "  139379542999808: TensorSpec(shape=(), dtype=tf.resource, name=None)\n",
            "  139379542914704: TensorSpec(shape=(), dtype=tf.resource, name=None)\n",
            "  139379542999104: TensorSpec(shape=(), dtype=tf.resource, name=None)\n",
            "  139379543004912: TensorSpec(shape=(), dtype=tf.resource, name=None)\n",
            "  139379543004560: TensorSpec(shape=(), dtype=tf.resource, name=None)\n",
            "  139379543008608: TensorSpec(shape=(), dtype=tf.resource, name=None)\n",
            "  139379543005968: TensorSpec(shape=(), dtype=tf.resource, name=None)\n",
            "  139379543006848: TensorSpec(shape=(), dtype=tf.resource, name=None)\n",
            "  139379543012304: TensorSpec(shape=(), dtype=tf.resource, name=None)\n",
            "  139379543007728: TensorSpec(shape=(), dtype=tf.resource, name=None)\n",
            "  139379543012832: TensorSpec(shape=(), dtype=tf.resource, name=None)\n",
            "  139379543013008: TensorSpec(shape=(), dtype=tf.resource, name=None)\n",
            "  139379543013888: TensorSpec(shape=(), dtype=tf.resource, name=None)\n",
            "  139379543085072: TensorSpec(shape=(), dtype=tf.resource, name=None)\n",
            "  139379543084544: TensorSpec(shape=(), dtype=tf.resource, name=None)\n",
            "  139379543089824: TensorSpec(shape=(), dtype=tf.resource, name=None)\n",
            "  139379543085776: TensorSpec(shape=(), dtype=tf.resource, name=None)\n",
            "  139379543086656: TensorSpec(shape=(), dtype=tf.resource, name=None)\n",
            "  139379543164176: TensorSpec(shape=(), dtype=tf.resource, name=None)\n",
            "  139379721808784: TensorSpec(shape=(), dtype=tf.resource, name=None)\n",
            "  139379721805792: TensorSpec(shape=(), dtype=tf.resource, name=None)\n",
            "  139379543169984: TensorSpec(shape=(), dtype=tf.resource, name=None)\n",
            "  139379543172272: TensorSpec(shape=(), dtype=tf.resource, name=None)\n",
            "  139379543174912: TensorSpec(shape=(), dtype=tf.resource, name=None)\n",
            "  139379543174560: TensorSpec(shape=(), dtype=tf.resource, name=None)\n",
            "  139379543178608: TensorSpec(shape=(), dtype=tf.resource, name=None)\n",
            "  139379543175968: TensorSpec(shape=(), dtype=tf.resource, name=None)\n",
            "  139379543176848: TensorSpec(shape=(), dtype=tf.resource, name=None)\n",
            "  139379543247504: TensorSpec(shape=(), dtype=tf.resource, name=None)\n",
            "  139379543247152: TensorSpec(shape=(), dtype=tf.resource, name=None)\n",
            "  139379543251376: TensorSpec(shape=(), dtype=tf.resource, name=None)\n",
            "  139379543248736: TensorSpec(shape=(), dtype=tf.resource, name=None)\n",
            "  139379543249616: TensorSpec(shape=(), dtype=tf.resource, name=None)\n",
            "  139379543254720: TensorSpec(shape=(), dtype=tf.resource, name=None)\n",
            "  139379543254368: TensorSpec(shape=(), dtype=tf.resource, name=None)\n",
            "  139379543258416: TensorSpec(shape=(), dtype=tf.resource, name=None)\n",
            "  139379543255776: TensorSpec(shape=(), dtype=tf.resource, name=None)\n",
            "  139379543256656: TensorSpec(shape=(), dtype=tf.resource, name=None)\n",
            "  139379543260704: TensorSpec(shape=(), dtype=tf.resource, name=None)\n",
            "  139379721806848: TensorSpec(shape=(), dtype=tf.resource, name=None)\n",
            "  139379721808256: TensorSpec(shape=(), dtype=tf.resource, name=None)\n",
            "  139379543093696: TensorSpec(shape=(), dtype=tf.resource, name=None)\n",
            "  139379721807024: TensorSpec(shape=(), dtype=tf.resource, name=None)\n",
            "  139379543168576: TensorSpec(shape=(), dtype=tf.resource, name=None)\n",
            "  139379543346688: TensorSpec(shape=(), dtype=tf.resource, name=None)\n",
            "  139379543344048: TensorSpec(shape=(), dtype=tf.resource, name=None)\n",
            "  139379543344400: TensorSpec(shape=(), dtype=tf.resource, name=None)\n",
            "  139379543345632: TensorSpec(shape=(), dtype=tf.resource, name=None)\n",
            "  139379543350032: TensorSpec(shape=(), dtype=tf.resource, name=None)\n",
            "  139379543349680: TensorSpec(shape=(), dtype=tf.resource, name=None)\n",
            "  139379543353728: TensorSpec(shape=(), dtype=tf.resource, name=None)\n",
            "  139379543351088: TensorSpec(shape=(), dtype=tf.resource, name=None)\n",
            "  139379543351968: TensorSpec(shape=(), dtype=tf.resource, name=None)\n",
            "  139379543356192: TensorSpec(shape=(), dtype=tf.resource, name=None)\n",
            "  139379543355840: TensorSpec(shape=(), dtype=tf.resource, name=None)\n",
            "  139379543356720: TensorSpec(shape=(), dtype=tf.resource, name=None)\n",
            "  139379543356896: TensorSpec(shape=(), dtype=tf.resource, name=None)\n",
            "  139379543357776: TensorSpec(shape=(), dtype=tf.resource, name=None)\n",
            "  139379543461728: TensorSpec(shape=(), dtype=tf.resource, name=None)\n",
            "  139379543461200: TensorSpec(shape=(), dtype=tf.resource, name=None)\n",
            "  139379543465072: TensorSpec(shape=(), dtype=tf.resource, name=None)\n",
            "  139379543462432: TensorSpec(shape=(), dtype=tf.resource, name=None)\n",
            "  139379543463312: TensorSpec(shape=(), dtype=tf.resource, name=None)\n",
            "  139379543468416: TensorSpec(shape=(), dtype=tf.resource, name=None)\n",
            "  139379543468064: TensorSpec(shape=(), dtype=tf.resource, name=None)\n",
            "  139379543472112: TensorSpec(shape=(), dtype=tf.resource, name=None)\n",
            "  139379543469472: TensorSpec(shape=(), dtype=tf.resource, name=None)\n",
            "  139379543470352: TensorSpec(shape=(), dtype=tf.resource, name=None)\n",
            "  139379541492832: TensorSpec(shape=(), dtype=tf.resource, name=None)\n",
            "  139379541493360: TensorSpec(shape=(), dtype=tf.resource, name=None)\n",
            "  139379541497056: TensorSpec(shape=(), dtype=tf.resource, name=None)\n",
            "  139379541494416: TensorSpec(shape=(), dtype=tf.resource, name=None)\n",
            "  139379541495120: TensorSpec(shape=(), dtype=tf.resource, name=None)\n",
            "  139379541500752: TensorSpec(shape=(), dtype=tf.resource, name=None)\n",
            "  139379541500224: TensorSpec(shape=(), dtype=tf.resource, name=None)\n",
            "  139379541504096: TensorSpec(shape=(), dtype=tf.resource, name=None)\n",
            "  139379541501456: TensorSpec(shape=(), dtype=tf.resource, name=None)\n",
            "  139379541502336: TensorSpec(shape=(), dtype=tf.resource, name=None)\n",
            "  139379541507792: TensorSpec(shape=(), dtype=tf.resource, name=None)\n",
            "  139379541609632: TensorSpec(shape=(), dtype=tf.resource, name=None)\n",
            "  139379541606992: TensorSpec(shape=(), dtype=tf.resource, name=None)\n",
            "  139379541607344: TensorSpec(shape=(), dtype=tf.resource, name=None)\n",
            "  139379541608224: TensorSpec(shape=(), dtype=tf.resource, name=None)\n",
            "  139379541612976: TensorSpec(shape=(), dtype=tf.resource, name=None)\n",
            "  139379541612624: TensorSpec(shape=(), dtype=tf.resource, name=None)\n",
            "  139379541616672: TensorSpec(shape=(), dtype=tf.resource, name=None)\n",
            "  139379541614032: TensorSpec(shape=(), dtype=tf.resource, name=None)\n",
            "  139379541614912: TensorSpec(shape=(), dtype=tf.resource, name=None)\n",
            "  139379541621600: TensorSpec(shape=(), dtype=tf.resource, name=None)\n",
            "  139379541689088: TensorSpec(shape=(), dtype=tf.resource, name=None)\n",
            "  139379541689616: TensorSpec(shape=(), dtype=tf.resource, name=None)\n",
            "  139379541620896: TensorSpec(shape=(), dtype=tf.resource, name=None)\n",
            "  139379541688384: TensorSpec(shape=(), dtype=tf.resource, name=None)\n",
            "  139379541694016: TensorSpec(shape=(), dtype=tf.resource, name=None)\n",
            "  139379541693664: TensorSpec(shape=(), dtype=tf.resource, name=None)\n",
            "  139379541697712: TensorSpec(shape=(), dtype=tf.resource, name=None)\n",
            "  139379541695072: TensorSpec(shape=(), dtype=tf.resource, name=None)\n",
            "  139379541695952: TensorSpec(shape=(), dtype=tf.resource, name=None)\n",
            "  139379541700176: TensorSpec(shape=(), dtype=tf.resource, name=None)\n",
            "  139379541699824: TensorSpec(shape=(), dtype=tf.resource, name=None)\n",
            "  139379541703520: TensorSpec(shape=(), dtype=tf.resource, name=None)\n",
            "  139379541700880: TensorSpec(shape=(), dtype=tf.resource, name=None)\n",
            "  139379541701760: TensorSpec(shape=(), dtype=tf.resource, name=None)\n",
            "  139379541788800: TensorSpec(shape=(), dtype=tf.resource, name=None)\n",
            "  139379541788448: TensorSpec(shape=(), dtype=tf.resource, name=None)\n",
            "  139379541792672: TensorSpec(shape=(), dtype=tf.resource, name=None)\n",
            "  139379541790032: TensorSpec(shape=(), dtype=tf.resource, name=None)\n",
            "  139379541790912: TensorSpec(shape=(), dtype=tf.resource, name=None)\n",
            "  139379541796016: TensorSpec(shape=(), dtype=tf.resource, name=None)\n",
            "  139379541795664: TensorSpec(shape=(), dtype=tf.resource, name=None)\n",
            "  139379541799712: TensorSpec(shape=(), dtype=tf.resource, name=None)\n",
            "  139379541797072: TensorSpec(shape=(), dtype=tf.resource, name=None)\n",
            "  139379541797952: TensorSpec(shape=(), dtype=tf.resource, name=None)\n",
            "  139379541802000: TensorSpec(shape=(), dtype=tf.resource, name=None)\n",
            "  139379541901904: TensorSpec(shape=(), dtype=tf.resource, name=None)\n",
            "  139379541903664: TensorSpec(shape=(), dtype=tf.resource, name=None)\n",
            "  139379541902784: TensorSpec(shape=(), dtype=tf.resource, name=None)\n",
            "  139379541903136: TensorSpec(shape=(), dtype=tf.resource, name=None)\n",
            "  139379541908944: TensorSpec(shape=(), dtype=tf.resource, name=None)\n",
            "  139379541908416: TensorSpec(shape=(), dtype=tf.resource, name=None)\n",
            "  139379541912288: TensorSpec(shape=(), dtype=tf.resource, name=None)\n",
            "  139379541909648: TensorSpec(shape=(), dtype=tf.resource, name=None)\n",
            "  139379541910528: TensorSpec(shape=(), dtype=tf.resource, name=None)\n",
            "  139379541915984: TensorSpec(shape=(), dtype=tf.resource, name=None)\n",
            "  139379542016240: TensorSpec(shape=(), dtype=tf.resource, name=None)\n",
            "  139379542018352: TensorSpec(shape=(), dtype=tf.resource, name=None)\n",
            "  139379541916512: TensorSpec(shape=(), dtype=tf.resource, name=None)\n",
            "  139379541915456: TensorSpec(shape=(), dtype=tf.resource, name=None)\n",
            "  139379542021168: TensorSpec(shape=(), dtype=tf.resource, name=None)\n",
            "  139379542020816: TensorSpec(shape=(), dtype=tf.resource, name=None)\n",
            "  139379542024864: TensorSpec(shape=(), dtype=tf.resource, name=None)\n",
            "  139379542022224: TensorSpec(shape=(), dtype=tf.resource, name=None)\n",
            "  139379542023104: TensorSpec(shape=(), dtype=tf.resource, name=None)\n",
            "  139379542028560: TensorSpec(shape=(), dtype=tf.resource, name=None)\n",
            "  139379542019584: TensorSpec(shape=(), dtype=tf.resource, name=None)\n",
            "  139379542031904: TensorSpec(shape=(), dtype=tf.resource, name=None)\n",
            "  139379542029264: TensorSpec(shape=(), dtype=tf.resource, name=None)\n",
            "  139379542030144: TensorSpec(shape=(), dtype=tf.resource, name=None)\n",
            "  139379542084592: TensorSpec(shape=(), dtype=tf.resource, name=None)\n",
            "  139379542084240: TensorSpec(shape=(), dtype=tf.resource, name=None)\n",
            "  139379542088288: TensorSpec(shape=(), dtype=tf.resource, name=None)\n",
            "  139379542085648: TensorSpec(shape=(), dtype=tf.resource, name=None)\n",
            "  139379542086528: TensorSpec(shape=(), dtype=tf.resource, name=None)\n",
            "  139379542090928: TensorSpec(shape=(), dtype=tf.resource, name=None)\n",
            "  139379542090576: TensorSpec(shape=(), dtype=tf.resource, name=None)\n",
            "  139379542094272: TensorSpec(shape=(), dtype=tf.resource, name=None)\n",
            "  139379542091632: TensorSpec(shape=(), dtype=tf.resource, name=None)\n",
            "  139379542092512: TensorSpec(shape=(), dtype=tf.resource, name=None)\n",
            "  139379429511888: TensorSpec(shape=(), dtype=tf.resource, name=None)\n",
            "  139379429516816: TensorSpec(shape=(), dtype=tf.resource, name=None)\n",
            "  139379429521920: TensorSpec(shape=(), dtype=tf.resource, name=None)\n",
            "  139379429726464: TensorSpec(shape=(), dtype=tf.resource, name=None)\n",
            "  139379429904224: TensorSpec(shape=(), dtype=tf.resource, name=None)\n",
            "  139379464007248: TensorSpec(shape=(), dtype=tf.resource, name=None)\n"
          ]
        }
      ]
    },
    {
      "cell_type": "code",
      "source": [
        "print(\"[INFO] evaluating network...\")\n",
        "predIdxs = model.predict(testX, batch_size=32)\n",
        "\n",
        "# for each image in the testing set we need to find the index of the label with corresponding largest predicted probability\n",
        "predIdxs = np.argmax(predIdxs, axis=1)\n",
        "\n",
        "# show a nicely formatted classification report\n",
        "print(classification_report(testY.argmax(axis=1), predIdxs,target_names=mlb.classes_))"
      ],
      "metadata": {
        "colab": {
          "base_uri": "https://localhost:8080/"
        },
        "id": "xpKxNCcRQhCD",
        "outputId": "fd4fcd2b-470d-42bf-9ea1-a4e8efbb3297"
      },
      "execution_count": 23,
      "outputs": [
        {
          "output_type": "stream",
          "name": "stdout",
          "text": [
            "[INFO] evaluating network...\n",
            "\u001b[1m1/1\u001b[0m \u001b[32m━━━━━━━━━━━━━━━━━━━━\u001b[0m\u001b[37m\u001b[0m \u001b[1m4s\u001b[0m 4s/step\n",
            "                       precision    recall  f1-score   support\n",
            "\n",
            "Bacterial leaf blight       0.89      1.00      0.94         8\n",
            "           Brown spot       0.50      1.00      0.67         4\n",
            "            Leaf smut       1.00      0.58      0.74        12\n",
            "\n",
            "             accuracy                           0.79        24\n",
            "            macro avg       0.80      0.86      0.78        24\n",
            "         weighted avg       0.88      0.79      0.79        24\n",
            "\n"
          ]
        }
      ]
    },
    {
      "cell_type": "code",
      "source": [
        "import tensorflow as tf\n",
        "\n",
        "# Convert the SavedModel to TensorFlow Lite format\n",
        "converter = tf.lite.TFLiteConverter.from_saved_model(\"/content/saved_model\")\n",
        "tflite_model = converter.convert()\n",
        "\n",
        "# Save the TensorFlow Lite model\n",
        "with open(\"/content/model.tflite\", \"wb\") as f:\n",
        "    f.write(tflite_model)"
      ],
      "metadata": {
        "id": "nt4vEh_yj2WU"
      },
      "execution_count": 24,
      "outputs": []
    }
  ]
}